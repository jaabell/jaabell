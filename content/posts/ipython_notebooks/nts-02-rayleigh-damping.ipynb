{
 "metadata": {
  "name": "",
  "signature": "sha256:c9078239e30d8436473a8a8acefeb39f44ebf78aff1ea2c25029ce44240f647c"
 },
 "nbformat": 3,
 "nbformat_minor": 0,
 "worksheets": [
  {
   "cells": [
    {
     "cell_type": "markdown",
     "metadata": {},
     "source": [
      "Note to self. How to compute Rayleigh damping coefficients for given damping ratios $\\xi_1$ and $\\xi_2$ at frequencies $f_1$ and $f_2$.\n",
      "\n",
      "This is textbook content, I just need to remind myself too often how this is done and end up re-deriving the equations.\n",
      "\n",
      "Given the second-order system of differential equations representing the FE model\n",
      "\n",
      "$$\n",
      "M \\ddot{u} + C \\dot{u} + K u = F(t)\n",
      "$$\n",
      "\n",
      "The damping matrix $C$ can be written as a Rayleigh damping matrix:\n",
      "\n",
      "$$\n",
      "C = a_0 M + a_1 K\n",
      "$$\n",
      "\n",
      "$a_0$ and $a_1$ are Rayleigh damping coefficients found by solving\n",
      "\n",
      "$$\n",
      "\\left[\n",
      "\\begin{array}{cc}\n",
      "\\dfrac{1}{2\\pi f_1} & 2 \\pi f_1 \\\\\n",
      "\\dfrac{1}{2\\pi f_2} & 2 \\pi f_2 \n",
      "\\end{array}\n",
      "\\right]\n",
      "\\left[\n",
      "\\begin{array}{c}\n",
      "a_0 \\\\\n",
      "a_1\n",
      "\\end{array}\n",
      "\\right]\n",
      "=\n",
      "\\left[\n",
      "\\begin{array}{c}\n",
      "\\xi_1 \\\\\n",
      "\\xi_2\n",
      "\\end{array}\n",
      "\\right]\n",
      "$$\n",
      "\n",
      "Which I do in the following code:"
     ]
    },
    {
     "cell_type": "code",
     "collapsed": false,
     "input": [
      "import sympy  as sym\n",
      "\n",
      "\n",
      "xi1 = sym.S(\"xi_1\")\n",
      "xi2 = sym.S(\"xi_2\")\n",
      "xi = sym.S(\"xi\")\n",
      "\n",
      "f1 = sym.S(\"f_1\")\n",
      "f2 = sym.S(\"f_2\")\n",
      "\n",
      "w1 = 2*sym.pi*f1\n",
      "w2 = 2*sym.pi*f2\n",
      "\n",
      "\n",
      "A = sym.Matrix([[ 1/w1, w1],[1/w2, w2]])/2\n",
      "b = sym.Matrix([[xi1],[xi2] ])\n",
      "\n",
      "a = A**-1*b\n",
      "\n",
      "\n",
      "print sym.pretty(sym.simplify(a[0]))\n",
      "print sym.simplify(a[0])\n",
      "print sym.pretty(sym.simplify(a[1]))\n",
      "print sym.simplify(a[1])"
     ],
     "language": "python",
     "metadata": {},
     "outputs": [
      {
       "output_type": "stream",
       "stream": "stdout",
       "text": [
        "4\u22c5\u03c0\u22c5f\u2081\u22c5f\u2082\u22c5(f\u2081\u22c5\u03be\u2082 - f\u2082\u22c5\u03be\u2081)\n",
        "\u2500\u2500\u2500\u2500\u2500\u2500\u2500\u2500\u2500\u2500\u2500\u2500\u2500\u2500\u2500\u2500\u2500\u2500\u2500\u2500\u2500\u2500\u2500\u2500\u2500\n",
        "          2     2        \n",
        "        f\u2081  - f\u2082         \n",
        "4*pi*f_1*f_2*(f_1*xi_2 - f_2*xi_1)/(f_1**2 - f_2**2)"
       ]
      },
      {
       "output_type": "stream",
       "stream": "stdout",
       "text": [
        "\n",
        "f\u2081\u22c5\u03be\u2081 - f\u2082\u22c5\u03be\u2082\n",
        "\u2500\u2500\u2500\u2500\u2500\u2500\u2500\u2500\u2500\u2500\u2500\u2500\u2500\n",
        "  \u239b  2     2\u239e\n",
        "\u03c0\u22c5\u239df\u2081  - f\u2082 \u23a0\n",
        "(f_1*xi_1 - f_2*xi_2)/(pi*(f_1**2 - f_2**2))"
       ]
      },
      {
       "output_type": "stream",
       "stream": "stdout",
       "text": [
        "\n"
       ]
      }
     ],
     "prompt_number": 6
    },
    {
     "cell_type": "markdown",
     "metadata": {},
     "source": [
      "$$\n",
      "a_0 = \\frac{4 \\pi f_{1} f_{2}}{f_{1}^{2} - f_{2}^{2}} \\left(f_{1} \\xi_{2} - f_{2} \\xi_{1}\\right)\n",
      "$$\n",
      "$$\n",
      "a_1 = \\frac{f_{1} \\xi_{1} - f_{2} \\xi_{2}}{\\pi \\left(f_{1}^{2} - f_{2}^{2}\\right)}\n",
      "$$"
     ]
    },
    {
     "cell_type": "markdown",
     "metadata": {},
     "source": [
      "Damping at other frequencies is given by,\n",
      "\n",
      "$$\n",
      "\\xi(f) = \\dfrac{a_0}{2\\pi f} + \\pi a_1 f\n",
      "$$\n",
      "\n",
      "For example for $f_1 = 0.3$ Hz and $f_2 = 1.2$ Hz, and $\\xi_1 = 0.05$, $\\xi_2 = 0.02$."
     ]
    },
    {
     "cell_type": "code",
     "collapsed": false,
     "input": [
      "import scipy as sp\n",
      "import matplotlib.pyplot as plt\n",
      "\n",
      "f_1 = 0.3\n",
      "f_2 = 1.2\n",
      "xi_1 = 0.05\n",
      "xi_2 = 0.02\n",
      "\n",
      "a_0 = 4*pi*f_1*f_2*(f_1*xi_2 - f_2*xi_1)/(f_1**2 - f_2**2)\n",
      "a_1 = (f_1*xi_1 - f_2*xi_2)/(pi*(f_1**2 - f_2**2))\n",
      "\n",
      "\n",
      "f = sp.linspace(0.0001, 3, 100)\n",
      "xi = a_0/(4*pi*f) + pi*a_1*f\n",
      "\n",
      "plt.figure().set_size_inches([12,6],forward = True)\n",
      "plt.plot(f,xi*100, linewidth =2)\n",
      "plt.plot(f_1, xi_1*100, \"ro\")\n",
      "plt.plot(f_2, xi_2*100, \"ro\")\n",
      "plt.xlabel(r\"$f$\")\n",
      "plt.ylabel(r\"Damping Ratio, $\\xi$, [% of critical]\")\n",
      "plt.ylim([0,10])\n",
      "plt.grid()\n"
     ],
     "language": "python",
     "metadata": {},
     "outputs": [
      {
       "metadata": {},
       "output_type": "display_data",
       "png": "[encoded data removed]",
       "text": [
        "<matplotlib.figure.Figure at 0x7f4722abb650>"
       ]
      }
     ],
     "prompt_number": 25
    }
   ],
   "metadata": {}
  }
 ]
}